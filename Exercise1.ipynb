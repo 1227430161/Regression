{
 "cells": [
  {
   "cell_type": "code",
   "execution_count": 1,
   "metadata": {},
   "outputs": [],
   "source": [
    "import numpy as  np"
   ]
  },
  {
   "cell_type": "code",
   "execution_count": 2,
   "metadata": {},
   "outputs": [],
   "source": [
    "x1=np.array([137.97,104.50,100.00,124.32,79.20,99.00,124.00,114.00,106.69,138.05,53.75,46.91,68.00,63.02,81.26,86.21])\n",
    "x2=np.array([3,2,2,3,1,2,3,2,2,3,1,1,1,1,2,2])\n",
    "y=np.array([145.00,110.00,93.00,116.00,65.32,104.00,118.00,91.00,62.00,133.00,51.00,45.00,78.50,69.65,75.69,95.30])"
   ]
  },
  {
   "cell_type": "code",
   "execution_count": 3,
   "metadata": {},
   "outputs": [],
   "source": [
    "x0=np.ones(len(x1))\n",
    "X=np.stack((x0,x1,x2),axis=1)\n",
    "Y=np.array(y).reshape(-1,1)\n",
    "Xt=np.transpose(X)#计算X'\n",
    "XtX_1=np.linalg.inv(np.matmul(Xt,X))#计算(X'X)-1  np.linalg.inv()矩阵求逆\n",
    "XtX_1_Xt=np.matmul(XtX_1,Xt)#计算（X'X）-1X'\n",
    "W=np.matmul(XtX_1_Xt,Y)\n",
    "W=W.reshape(-1)\n"
   ]
  },
  {
   "cell_type": "code",
   "execution_count": 6,
   "metadata": {},
   "outputs": [
    {
     "name": "stdout",
     "output_type": "stream",
     "text": [
      "请输入房屋面积和房间数，预测房屋销售价格：\n",
      "商品房面积：12\n",
      "房间数：3\n",
      "你输入的数字不在范围内，请重新输入：\n",
      "商品房面积：14\n",
      "房间数：2\n",
      "你输入的数字不在范围内，请重新输入：\n",
      "商品房面积：200\n",
      "房间数：4\n",
      "预测价格： 176.27 万元\n"
     ]
    }
   ],
   "source": [
    "print(\"请输入房屋面积和房间数，预测房屋销售价格：\")\n",
    "\n",
    "while True:\n",
    "    x1_test=float(input(\"商品房面积：\")) \n",
    "    x2_test=int(input(\"房间数：\"))\n",
    "    \n",
    "    if 20<=x1_test<=500 and 1<=x2_test<=10:\n",
    "        break\n",
    "    else:\n",
    "        print(\"你输入的数字不在范围内，请重新输入：\")\n",
    "        continue\n",
    "        \n",
    "y_pred=W[1]*x1_test+W[2]*x2_test+W[0]\n",
    "print(\"预测价格：\",round(y_pred,2),\"万元\")"
   ]
  },
  {
   "cell_type": "code",
   "execution_count": null,
   "metadata": {},
   "outputs": [],
   "source": []
  }
 ],
 "metadata": {
  "kernelspec": {
   "display_name": "Python 3",
   "language": "python",
   "name": "python3"
  },
  "language_info": {
   "codemirror_mode": {
    "name": "ipython",
    "version": 3
   },
   "file_extension": ".py",
   "mimetype": "text/x-python",
   "name": "python",
   "nbconvert_exporter": "python",
   "pygments_lexer": "ipython3",
   "version": "3.7.4"
  }
 },
 "nbformat": 4,
 "nbformat_minor": 2
}
